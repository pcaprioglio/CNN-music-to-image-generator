{
 "cells": [
  {
   "cell_type": "code",
   "execution_count": 1,
   "id": "0b97c37d",
   "metadata": {},
   "outputs": [],
   "source": [
    "#Importing the required libraries\n",
    "import os         \n",
    "import cv2 as cv         \n",
    "import numpy as np   \n",
    "import tensorflow as tf\n",
    "from tensorflow.keras.models import load_model, Model     \n",
    "from sklearn.cluster import KMeans                       \n",
    "import matplotlib.pyplot as plt\n",
    "from tensorflow.keras.preprocessing import image                         \n",
    "import matplotlib.image as mpimg              \n",
    "import matplotlib.cm as cm\n",
    "from sklearn.metrics import silhouette_samples, silhouette_score        \n",
    "from tabulate import tabulate     \n",
    "import pandas as pd\n",
    "import seaborn as sns\n",
    "\n",
    "import warnings\n",
    "warnings.filterwarnings('ignore')\n"
   ]
  },
  {
   "cell_type": "code",
   "execution_count": 14,
   "id": "6d9b1df6",
   "metadata": {},
   "outputs": [
    {
     "data": {
      "text/plain": [
       "[PhysicalDevice(name='/physical_device:CPU:0', device_type='CPU'),\n",
       " PhysicalDevice(name='/physical_device:GPU:0', device_type='GPU')]"
      ]
     },
     "execution_count": 14,
     "metadata": {},
     "output_type": "execute_result"
    }
   ],
   "source": [
    "tf.config.experimental.list_physical_devices()"
   ]
  },
  {
   "cell_type": "code",
   "execution_count": 15,
   "id": "21703755",
   "metadata": {},
   "outputs": [
    {
     "data": {
      "text/plain": [
       "[PhysicalDevice(name='/physical_device:CPU:0', device_type='CPU')]"
      ]
     },
     "execution_count": 15,
     "metadata": {},
     "output_type": "execute_result"
    }
   ],
   "source": [
    "tf.config.list_physical_devices('CPU')"
   ]
  },
  {
   "cell_type": "markdown",
   "id": "d6c3b768",
   "metadata": {},
   "source": [
    "## Some useful function to preprocess the images and run the models  ##"
   ]
  },
  {
   "cell_type": "code",
   "execution_count": 2,
   "id": "480d569e",
   "metadata": {},
   "outputs": [],
   "source": [
    "def image_preprocessing(output_dir, \n",
    "                        df=None, \n",
    "                        path_column=None, \n",
    "                        source_dir=None, \n",
    "                        size=(500,500), \n",
    "                        brightness=None, \n",
    "                        contrast=None):\n",
    "    \"\"\"\n",
    "    Helper function to get images either from a source directory or a list of paths contained in a df. You must specify either of the two as argument for the function to work.\n",
    "    The function allows to rescale and adjust the contrast and brightness of the images before copying them to an output directory. \n",
    "    \"\"\"\n",
    "    \n",
    "    if not os.path.exists(output_dir):\n",
    "        os.mkdir(output_dir)\n",
    "        \n",
    "    if df:\n",
    "        files = list(df[path_column])       # Get file paths from a specifc column in a df\n",
    "    elif source_dir:                        # Get file paths directly from a source directory\n",
    "        files = []\n",
    "        for file_name in os.listdir(source_dir):\n",
    "            files.append(os.path.join(source_dir, file_name))\n",
    "        files\n",
    "\n",
    "    for file in files:\n",
    "        image_name = str(file).split('/')[-1]\n",
    "        if os.path.isfile(str(file)):\n",
    "            image_array = cv.imread(file)\n",
    "            img = cv.resize(image_array, size, interpolation=cv.INTER_AREA)  # Resize images using INTER_AREA as interpolation in our to avoid aliasing \n",
    "\n",
    "            if contrast:\n",
    "                img = cv.addWeighted(img, contrast, np.zeros(image.shape, image.dtype), 0, brightness)  # adjust contrast and brightness of the image\n",
    "            cv.imwrite(os.path.join(output_dir, image_name), img)\n",
    "        "
   ]
  },
  {
   "cell_type": "code",
   "execution_count": 3,
   "id": "4bfd9eef",
   "metadata": {},
   "outputs": [],
   "source": [
    "def get_files(path_to_files, size):\n",
    "    \"\"\"\n",
    "    Helper function to load and resize images with the appropriate size for the input model. \n",
    "    \"\"\"\n",
    "    fn_imgs = []\n",
    "    files = [file for file in os.listdir(path_to_files)]       #Storing all image files names\n",
    "    for file in files:\n",
    "        file_path = os.path.join(path_to_files,file)\n",
    "        image_array = cv.imread(file_path)\n",
    "        img = cv.resize(image_array, size, interpolation=cv.INTER_AREA) #Reading and resizing each image\n",
    "        fn_imgs.append([file, img])             #Accumulating each image to a variable          \n",
    "    return dict(fn_imgs)                        #Return dictionary of file names and images         "
   ]
  },
  {
   "cell_type": "code",
   "execution_count": 4,
   "id": "afbd5fdc",
   "metadata": {},
   "outputs": [],
   "source": [
    "def feature_vector(img_arr, model):          \n",
    "    if img_arr.shape[2] == 1:       \n",
    "      img_arr = img_arr.repeat(3, axis=2)     #expand dimension if image is in grey scale\n",
    "    arr4d = np.expand_dims(img_arr, axis=0)   #Expanding image dimension (1, 224, 224, 3) to make it a tensor compatable with keras model\n",
    "    return model.predict(arr4d)[0,:]          #Returning image features through last layer of your model\n",
    "\n",
    "\n",
    "#Extracting features from all the images\n",
    "def feature_vectors(imgs_dict, model):\n",
    "    f_vect = {}\n",
    "    for fn, img in imgs_dict.items():         #For loop over each image in the imgs_dict\n",
    "      f_vect[fn] = feature_vector(img, model) #Calling feature vector function to extract the features\n",
    "    return f_vect                             #Returning features dictionary\n",
    "     "
   ]
  },
  {
   "cell_type": "markdown",
   "id": "a4d47fa6",
   "metadata": {},
   "source": [
    "## Load images and CNN models ##"
   ]
  },
  {
   "cell_type": "code",
   "execution_count": null,
   "id": "f9356655",
   "metadata": {},
   "outputs": [],
   "source": [
    "## Load single excel file\n",
    "path = r''\n",
    "df = pd.read_excel(path)"
   ]
  },
  {
   "cell_type": "code",
   "execution_count": null,
   "id": "642bd6e1",
   "metadata": {},
   "outputs": [],
   "source": [
    "## Concatenate multiple excel files\n",
    "path = r''\n",
    "df = pd.DataFrame()\n",
    "for file in os.listdir(path):\n",
    "    file_name = os.path.join(path, file)\n",
    "    df_temp = pd.read_excel(file_name)\n",
    "    df = pd.concat([df, df_temp])"
   ]
  },
  {
   "cell_type": "code",
   "execution_count": null,
   "id": "571a809d",
   "metadata": {},
   "outputs": [],
   "source": [
    "## Test contrast and birghtness of signle image before applying to all\n",
    "file = ## put filepath of single image here\n",
    "brightness=0\n",
    "contrast = 1.2\n",
    "image_array = cv.imread(file)\n",
    "img = cv.addWeighted(image_array, contrast, np.zeros(image_array.shape, image_array.dtype), 0, brightness)\n",
    "plt.imshow(img)"
   ]
  },
  {
   "cell_type": "code",
   "execution_count": null,
   "id": "bf248d97",
   "metadata": {},
   "outputs": [],
   "source": [
    "## Get and process your images here\n",
    "output_dir=, \n",
    "df=None\n",
    "path_column=None \n",
    "source_dir=None \n",
    "size=(500,500) \n",
    "brightness=None\n",
    "contrast=None\n",
    "\n",
    "image_preprocessing(df=df, path_column=path_column, output_dir=output_dir)"
   ]
  },
  {
   "cell_type": "code",
   "execution_count": 5,
   "id": "39cff57f",
   "metadata": {},
   "outputs": [],
   "source": [
    "## EfficientNetV2B0 Model\n",
    "base_model = tf.keras.applications.EfficientNetV2B0(include_top=True,  ##input is 224,224\n",
    "                                                   weights='imagenet',)\n",
    "base_model.trainable = False\n",
    "model = Model(inputs=base_model.input,                   \n",
    "              outputs=base_model.get_layer('top_dropout').output) ## Remove last fully connected layer of the model (normally used for classification task and not useful here)"
   ]
  },
  {
   "cell_type": "code",
   "execution_count": null,
   "id": "3e902d7e",
   "metadata": {},
   "outputs": [],
   "source": [
    "## InceptionV3 Model\n",
    "base_model = tf.keras.applications.InceptionV3(include_top=True,  ##input is 299,288\n",
    "                                                   weights='imagenet',)\n",
    "base_model.trainable = False\n",
    "model = Model(inputs=base_model.input,                   \n",
    "              outputs=base_model.get_layer('avg_pool').output) ## Remove last fully connected layer of the model (normally used for classification task and not useful here)"
   ]
  },
  {
   "cell_type": "code",
   "execution_count": null,
   "id": "defe1dbc",
   "metadata": {
    "scrolled": true
   },
   "outputs": [],
   "source": [
    "## Run if you want visualize all the layers of your model ()\n",
    "model.summary()"
   ]
  },
  {
   "cell_type": "markdown",
   "id": "562fb40f",
   "metadata": {},
   "source": [
    "## Run CNN model ##"
   ]
  },
  {
   "cell_type": "code",
   "execution_count": 6,
   "id": "411ffa5c",
   "metadata": {},
   "outputs": [],
   "source": [
    "## Prepare images before feeding them to the model \n",
    "img_path = r'/Users/pietrocaprioglio/Documents/GitHub/Audio-to-spectrogram-app/pre_processed'     # Here put the output directory you used in the image_preprocessing function\n",
    "imgs_dict = get_files(img_path, size = (224, 224)) # Adjust the size depending on the model you're using. Always check for input layer dimension! "
   ]
  },
  {
   "cell_type": "code",
   "execution_count": 53,
   "id": "73a8c4e1",
   "metadata": {},
   "outputs": [
    {
     "data": {
      "text/plain": [
       "(224, 224, 3)"
      ]
     },
     "execution_count": 53,
     "metadata": {},
     "output_type": "execute_result"
    }
   ],
   "source": [
    "imgs_dict['01 Beywond.png'].shape"
   ]
  },
  {
   "cell_type": "code",
   "execution_count": 7,
   "id": "b2556b06",
   "metadata": {
    "scrolled": true
   },
   "outputs": [
    {
     "name": "stderr",
     "output_type": "stream",
     "text": [
      "2025-06-22 16:35:13.088502: W tensorflow/tsl/platform/profile_utils/cpu_utils.cc:128] Failed to get CPU frequency: 0 Hz\n"
     ]
    },
    {
     "name": "stdout",
     "output_type": "stream",
     "text": [
      "1/1 [==============================] - 1s 1s/step\n",
      "1/1 [==============================] - 0s 66ms/step\n",
      "1/1 [==============================] - 0s 41ms/step\n",
      "1/1 [==============================] - 0s 41ms/step\n",
      "1/1 [==============================] - 0s 43ms/step\n",
      "1/1 [==============================] - 0s 38ms/step\n",
      "1/1 [==============================] - 0s 39ms/step\n",
      "1/1 [==============================] - 0s 39ms/step\n",
      "1/1 [==============================] - 0s 40ms/step\n",
      "1/1 [==============================] - 0s 39ms/step\n",
      "1/1 [==============================] - 0s 39ms/step\n",
      "1/1 [==============================] - 0s 40ms/step\n",
      "1/1 [==============================] - 0s 38ms/step\n",
      "1/1 [==============================] - 0s 34ms/step\n",
      "1/1 [==============================] - 0s 33ms/step\n",
      "1/1 [==============================] - 0s 32ms/step\n",
      "1/1 [==============================] - 0s 36ms/step\n",
      "1/1 [==============================] - 0s 34ms/step\n",
      "1/1 [==============================] - 0s 35ms/step\n",
      "1/1 [==============================] - 0s 34ms/step\n",
      "1/1 [==============================] - 0s 32ms/step\n",
      "1/1 [==============================] - 0s 32ms/step\n",
      "1/1 [==============================] - 0s 32ms/step\n",
      "1/1 [==============================] - 0s 32ms/step\n"
     ]
    }
   ],
   "source": [
    "## Run model! \n",
    "img_feature_vector = feature_vectors(imgs_dict, model)"
   ]
  },
  {
   "cell_type": "code",
   "execution_count": null,
   "id": "3a27ac26",
   "metadata": {},
   "outputs": [
    {
     "ename": "KeyError",
     "evalue": "0",
     "output_type": "error",
     "traceback": [
      "\u001b[0;31m---------------------------------------------------------------------------\u001b[0m",
      "\u001b[0;31mKeyError\u001b[0m                                  Traceback (most recent call last)",
      "Cell \u001b[0;32mIn[20], line 1\u001b[0m\n\u001b[0;32m----> 1\u001b[0m \u001b[43mimg_feature_vector\u001b[49m\u001b[43m[\u001b[49m\u001b[38;5;241;43m0\u001b[39;49m\u001b[43m]\u001b[49m\n",
      "\u001b[0;31mKeyError\u001b[0m: 0"
     ]
    }
   ],
   "source": [
    "img_feature_vector"
   ]
  },
  {
   "cell_type": "markdown",
   "id": "40da15fa",
   "metadata": {},
   "source": [
    "## Now let's cluster the images based on their features using K-means ##"
   ]
  },
  {
   "cell_type": "code",
   "execution_count": 8,
   "id": "397b5df8",
   "metadata": {
    "scrolled": false
   },
   "outputs": [
    {
     "data": {
      "image/png": "[encoded data removed]",
      "text/plain": [
       "<Figure size 1200x600 with 1 Axes>"
      ]
     },
     "metadata": {},
     "output_type": "display_data"
    }
   ],
   "source": [
    "## Elbow plot for identify the optimal number of clusters for the K-Means algorithm \n",
    "images = list(img_feature_vector.values())    \n",
    "fns = list(img_feature_vector.keys())        \n",
    "sum_of_squared_distances = []                \n",
    "K = range(1, 10)                              #Range of clusters to be tried\n",
    "for k in K:                                  \n",
    "    km = KMeans(n_clusters=k)                \n",
    "    km = km.fit(images)                     \n",
    "    sum_of_squared_distances.append(km.inertia_)   #Calculating the variance\n",
    "\n",
    "#Plotting the variance\n",
    "fig, ax = plt.subplots(figsize=(12, 6))\n",
    "plt.plot(K, sum_of_squared_distances, 'bx-')\n",
    "plt.xlabel('k')\n",
    "plt.ylabel('Sum_of_squared_distances')\n",
    "plt.title('Elbow Method For Optimal k')\n",
    "plt.show()"
   ]
  },
  {
   "cell_type": "code",
   "execution_count": 14,
   "id": "8a9b06e5",
   "metadata": {},
   "outputs": [],
   "source": [
    "# Define here the output folder specific for each experiment in order to keep your results tidy.\n",
    "results_path = r'/Users/pietrocaprioglio/Documents/GitHub/DL-Music-Classifier/results/EffNet_K5'\n",
    "if not os.path.exists(results_path):\n",
    "        os.mkdir(results_path)"
   ]
  },
  {
   "cell_type": "code",
   "execution_count": 16,
   "id": "8af5fb0c",
   "metadata": {},
   "outputs": [],
   "source": [
    "#Running clustering algorithm with optimal number of clusters\n",
    "n_clusters = 5        #put here the optimal number obtained from the elbow plot\n",
    "kmeans = KMeans(n_clusters=n_clusters, init='k-means++')  \n",
    "kmeans.fit(images)                    \n",
    "y_kmeans = kmeans.predict(images)     \n",
    "file_names = list(imgs_dict.keys())   "
   ]
  },
  {
   "cell_type": "code",
   "execution_count": 17,
   "id": "61fe8512",
   "metadata": {},
   "outputs": [],
   "source": [
    "# Save an excel file with image names and cluster for any future use\n",
    "data_cluster = {'File_name': file_names, 'Cluster': y_kmeans} \n",
    "df_clusters=pd.DataFrame(data_cluster)\n",
    "df_clusters.to_excel(results_path+'/data_cluster.xlsx')"
   ]
  },
  {
   "cell_type": "code",
   "execution_count": 18,
   "id": "623ad7f8",
   "metadata": {},
   "outputs": [],
   "source": [
    "# Arrange images in different folder associated to each cluster\n",
    "cluster_path = results_path     #Path to store the clusters\n",
    "path_to_files = img_path        #Path to image dataset\n",
    "\n",
    "#Creating each cluster directory\n",
    "for c in range(0,n_clusters):\n",
    "    if not os.path.exists(cluster_path+'/cluster_'+str(c)):\n",
    "        os.mkdir(cluster_path+'/cluster_'+str(c))\n",
    "\n",
    "#Storing each image to different clusters it belongs to \n",
    "for fn, cluster in zip(file_names, y_kmeans):\n",
    "    image = cv.imread(os.path.join(img_path,fn))\n",
    "    \n",
    "    cv.imwrite(cluster_path+'/cluster_'+str(cluster)+'//'+fn, image)"
   ]
  },
  {
   "cell_type": "code",
   "execution_count": null,
   "id": "6028e8e5",
   "metadata": {},
   "outputs": [],
   "source": [
    "#Plotting images in each cluster\n",
    "cluster_number =  #Cluster number to be plotted\n",
    "fig = plt.figure(figsize=(14, 14))   \n",
    "cluster_no = f'//cluster_{cluster_number}//'           \n",
    "cluster_path = results_path + cluster_no  \n",
    "images = [file for file in os.listdir(cluster_path)] \n",
    "\n",
    "for cnt, data in enumerate(images[1:30]): \n",
    "    y = fig.add_subplot(6, 5, cnt+1)      \n",
    "    img = mpimg.imread(cluster_path+data) \n",
    "    y.imshow(img)                        \n",
    "    plt.title(cluster_no)                \n",
    "    y.axes.get_xaxis().set_visible(False)\n",
    "    y.axes.get_yaxis().set_visible(False)\n",
    "\n",
    "cluster0_imgs_total = len(images)   #check tot number of images per specified cluster"
   ]
  },
  {
   "cell_type": "code",
   "execution_count": 20,
   "id": "bd3e8524",
   "metadata": {},
   "outputs": [
    {
     "name": "stdout",
     "output_type": "stream",
     "text": [
      "For n_clusters = 5 The average silhouette_score is : 0.08164763450622559\n"
     ]
    },
    {
     "data": {
      "image/png": "[encoded data removed]",
      "text/plain": [
       "<Figure size 1200x600 with 1 Axes>"
      ]
     },
     "metadata": {},
     "output_type": "display_data"
    }
   ],
   "source": [
    "# Silhouette plot in order to have a more qualitative assesment of the clustering quality\n",
    "images = list(img_feature_vector.values())   \n",
    "fig, ax = plt.subplots(figsize=(12, 6))        \n",
    "ax.set_xlim([-0.1, 0.5])                               \n",
    "ax.set_ylim([0, len(images) + (n_clusters + 1) * 10])  \n",
    "\n",
    "sample_silhouette_values = silhouette_samples(images, y_kmeans)\n",
    "silhouette_avg = silhouette_score(images, y_kmeans)\n",
    "\n",
    "y_lower = 10\n",
    "#For loop over each image in the respective cluster\n",
    "for i in range(n_clusters):\n",
    "  # Aggregate the silhouette scores for samples belonging to\n",
    "  # cluster i, and sort them\n",
    "  ith_cluster_silhouette_values = \\\n",
    "      sample_silhouette_values[y_kmeans == i]\n",
    "\n",
    "  ith_cluster_silhouette_values.sort() #Sorting each cluster score\n",
    "  \n",
    "  #Setting limit for each cluster in y-axis\n",
    "  size_cluster_i = ith_cluster_silhouette_values.shape[0]\n",
    "  y_upper = y_lower + size_cluster_i\n",
    "  \n",
    "  #Setting color for each cluster's silhouette coefficients\n",
    "  color = cm.nipy_spectral(float(i) / n_clusters) \n",
    "  ax.fill_betweenx(np.arange(y_lower, y_upper),\n",
    "                          0, ith_cluster_silhouette_values,\n",
    "                          facecolor=color, edgecolor=color, alpha=0.7)\n",
    "\n",
    "  # Label the silhouette plots with their cluster numbers at the middle\n",
    "  ax.text(-0.05, y_lower + 0.5 * size_cluster_i, str(i))\n",
    "\n",
    "  # Compute the new y_lower for next plot\n",
    "  y_lower = y_upper + 10  # 10 for the 0 samples\n",
    "\n",
    "#Titles for the plot\n",
    "ax.set_xlabel(\"Silhouette coefficient values\")\n",
    "ax.set_ylabel(\"Cluster label\")\n",
    "\n",
    "ax.axvline(x=silhouette_avg, color=\"red\", linestyle=\"--\")\n",
    "ax.set_yticks([])  \n",
    "ax.set_xticks([-0.1, 0, 0.2, 0.4, 0.6, 0.8, 1])\n",
    "\n",
    "plt.suptitle((\"Silhouette analysis for KMeans clustering on sample data \"\n",
    "                  \"with n_clusters = %d\" % n_clusters),\n",
    "                 fontsize=14, fontweight='bold');\n",
    "\n",
    "#Printing the average silhouette score for the clusters\n",
    "print(\"For n_clusters =\", n_clusters,\n",
    "          \"The average silhouette_score is :\", silhouette_avg)\n",
    "\n",
    "plt.savefig(results_path + '/silhuette.png', bbox_inches = 'tight')"
   ]
  },
  {
   "cell_type": "markdown",
   "id": "d8216763",
   "metadata": {},
   "source": [
    "## Here let's try the clustering using DBSCAN to see if we get better results depending on the experiment ##"
   ]
  },
  {
   "cell_type": "code",
   "execution_count": 21,
   "id": "cd512f36",
   "metadata": {},
   "outputs": [],
   "source": [
    "# Here load DBSCAN\n",
    "from sklearn.cluster import DBSCAN\n",
    "from sklearn.neighbors import NearestNeighbors\n",
    "images = list(img_feature_vector.values())    #Image feature vectors\n",
    "fns = list(img_feature_vector.keys())         #Image file names"
   ]
  },
  {
   "cell_type": "code",
   "execution_count": 44,
   "id": "191bc4ca",
   "metadata": {},
   "outputs": [
    {
     "data": {
      "image/png": "[encoded data removed]",
      "text/plain": [
       "<Figure size 1000x600 with 1 Axes>"
      ]
     },
     "metadata": {},
     "output_type": "display_data"
    }
   ],
   "source": [
    "def plot_k_distance_graph(X, k):\n",
    "    neigh = NearestNeighbors(n_neighbors=k)\n",
    "    neigh.fit(X)\n",
    "    distances, _ = neigh.kneighbors(X)\n",
    "    distances = np.sort(distances[:, k-1])\n",
    "    plt.figure(figsize=(10, 6))\n",
    "    plt.plot(distances)\n",
    "    plt.xlabel('Points')\n",
    "    plt.ylabel(f'{k}-th nearest neighbor distance')\n",
    "    plt.title('K-distance Graph')\n",
    "    plt.show()\n",
    "# Plot k-distance graph\n",
    "plot_k_distance_graph(images, k=9)"
   ]
  },
  {
   "cell_type": "code",
   "execution_count": 49,
   "id": "5c96b642",
   "metadata": {},
   "outputs": [],
   "source": [
    "dbscan = DBSCAN(eps=9,\n",
    "         min_samples=3)\n",
    "\n",
    "clusters = dbscan.fit_predict(images)\n",
    "y_clusters = dbscan.labels_\n",
    "\n",
    "# results_path = r'/Users/pietrocaprioglio/Documents/GitHub/DL-Music-Classifier/results/EffNet_DBSCAN_eps8_min3'\n",
    "# if not os.path.exists(results_path):\n",
    "#         os.mkdir(results_path)\n"
   ]
  },
  {
   "cell_type": "code",
   "execution_count": 50,
   "id": "49d20f94",
   "metadata": {},
   "outputs": [
    {
     "name": "stdout",
     "output_type": "stream",
     "text": [
      "Number of clusters: 1\n",
      "Number of noise points: 1\n"
     ]
    }
   ],
   "source": [
    "n_clusters = len(set(clusters)) - (1 if -1 in clusters else 0)\n",
    "n_noise = list(clusters).count(-1)\n",
    "print(f'Number of clusters: {n_clusters}')\n",
    "print(f'Number of noise points: {n_noise}')"
   ]
  },
  {
   "cell_type": "code",
   "execution_count": null,
   "id": "d678319e",
   "metadata": {},
   "outputs": [],
   "source": [
    "data_cluster = {'File_name': file_names, 'Cluster': y_clusters} \n",
    "df_clusters=pd.DataFrame(data_cluster)\n",
    "df_clusters.to_excel(results_path+'/data_cluster.xlsx')"
   ]
  },
  {
   "cell_type": "code",
   "execution_count": null,
   "id": "91d57408",
   "metadata": {},
   "outputs": [],
   "source": [
    "cluster_path = results_path    #Path to store the clusters\n",
    "path_to_files = img_path   #Path to image dataset\n",
    "\n",
    "#Creating each cluster directory\n",
    "for c in range(0,n_clusters):\n",
    "    print(c)\n",
    "    if not os.path.exists(cluster_path+'/cluster_'+str(c)):\n",
    "        os.mkdir(cluster_path+'/cluster_'+str(c))\n",
    "\n",
    "#Storing each image to different clusters it belongs to \n",
    "for fn, cluster in zip(file_names, y_clusters):\n",
    "    image = cv2.imread(os.path.join(img_path,fn))\n",
    "    \n",
    "    cv2.imwrite(cluster_path+'/cluster_'+str(cluster)+'//'+fn, image)"
   ]
  },
  {
   "cell_type": "code",
   "execution_count": null,
   "id": "0c40effc",
   "metadata": {},
   "outputs": [],
   "source": [
    "# Silhouette plot in order to have a more qualitative assesment of the clustering quality\n",
    "images = list(img_feature_vector.values())   \n",
    "fig, ax = plt.subplots(figsize=(12, 6))        \n",
    "ax.set_xlim([-0.1, 0.5])                               \n",
    "ax.set_ylim([0, len(images) + (n_clusters + 1) * 10])  \n",
    "\n",
    "sample_silhouette_values = silhouette_samples(images, y_kmeans)\n",
    "silhouette_avg = silhouette_score(images, y_kmeans)\n",
    "\n",
    "y_lower = 10\n",
    "#For loop over each image in the respective cluster\n",
    "for i in range(n_clusters):\n",
    "  # Aggregate the silhouette scores for samples belonging to\n",
    "  # cluster i, and sort them\n",
    "  ith_cluster_silhouette_values = /\n",
    "      sample_silhouette_values[y_kmeans == i]\n",
    "\n",
    "  ith_cluster_silhouette_values.sort() #Sorting each cluster score\n",
    "  \n",
    "  #Setting limit for each cluster in y-axis\n",
    "  size_cluster_i = ith_cluster_silhouette_values.shape[0]\n",
    "  y_upper = y_lower + size_cluster_i\n",
    "  \n",
    "  #Setting color for each cluster's silhouette coefficients\n",
    "  color = cm.nipy_spectral(float(i) / n_clusters) \n",
    "  ax.fill_betweenx(np.arange(y_lower, y_upper),\n",
    "                          0, ith_cluster_silhouette_values,\n",
    "                          facecolor=color, edgecolor=color, alpha=0.7)\n",
    "\n",
    "  # Label the silhouette plots with their cluster numbers at the middle\n",
    "  ax.text(-0.05, y_lower + 0.5 * size_cluster_i, str(i))\n",
    "\n",
    "  # Compute the new y_lower for next plot\n",
    "  y_lower = y_upper + 10  # 10 for the 0 samples\n",
    "\n",
    "#Titles for the plot\n",
    "ax.set_xlabel(\"Silhouette coefficient values\")\n",
    "ax.set_ylabel(\"Cluster label\")\n",
    "\n",
    "ax.axvline(x=silhouette_avg, color=\"red\", linestyle=\"--\")\n",
    "ax.set_yticks([])  \n",
    "ax.set_xticks([-0.1, 0, 0.2, 0.4, 0.6, 0.8, 1])\n",
    "\n",
    "plt.suptitle((\"Silhouette analysis for KMeans clustering on sample data \"\n",
    "                  \"with n_clusters = %d\" % n_clusters),\n",
    "                 fontsize=14, fontweight='bold');\n",
    "\n",
    "#Printing the average silhouette score for the clusters\n",
    "print(\"For n_clusters =\", n_clusters,\n",
    "          \"The average silhouette_score is :\", silhouette_avg)\n",
    "\n",
    "plt.savefig(results_path + '/silhuette.png', bbox_inches = 'tight')"
   ]
  },
  {
   "cell_type": "code",
   "execution_count": null,
   "id": "0a51b3e6",
   "metadata": {},
   "outputs": [],
   "source": [
    "#Plotting images in each cluster\n",
    "cluster_number =  #Cluster number to be plotted\n",
    "fig = plt.figure(figsize=(14, 14))   \n",
    "cluster_no = f'//cluster_{cluster_number}//'           \n",
    "cluster_path = results_path + cluster_no  \n",
    "images = [file for file in os.listdir(cluster_path)] \n",
    "\n",
    "for cnt, data in enumerate(images[1:30]): \n",
    "    y = fig.add_subplot(6, 5, cnt+1)      \n",
    "    img = mpimg.imread(cluster_path+data) \n",
    "    y.imshow(img)                        \n",
    "    plt.title(cluster_no)                \n",
    "    y.axes.get_xaxis().set_visible(False)\n",
    "    y.axes.get_yaxis().set_visible(False)\n",
    "\n",
    "cluster0_imgs_total = len(images)   #check tot number of images per specified cluster"
   ]
  },
  {
   "cell_type": "code",
   "execution_count": null,
   "id": "da02177f",
   "metadata": {},
   "outputs": [],
   "source": []
  }
 ],
 "metadata": {
  "kernelspec": {
   "display_name": "base",
   "language": "python",
   "name": "python3"
  },
  "language_info": {
   "codemirror_mode": {
    "name": "ipython",
    "version": 3
   },
   "file_extension": ".py",
   "mimetype": "text/x-python",
   "name": "python",
   "nbconvert_exporter": "python",
   "pygments_lexer": "ipython3",
   "version": "3.10.9"
  }
 },
 "nbformat": 4,
 "nbformat_minor": 5
}
